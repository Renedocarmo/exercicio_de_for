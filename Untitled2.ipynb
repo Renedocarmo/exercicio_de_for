{
  "nbformat": 4,
  "nbformat_minor": 0,
  "metadata": {
    "colab": {
      "provenance": []
    },
    "kernelspec": {
      "name": "python3",
      "display_name": "Python 3"
    },
    "language_info": {
      "name": "python"
    }
  },
  "cells": [
    {
      "cell_type": "code",
      "execution_count": null,
      "metadata": {
        "id": "8WAYPKcS-kl5"
      },
      "outputs": [],
      "source": [
        "maior numero = 0\n",
        "for contador in range(5):)\n",
        "  numero = float(input(f\"digite o {contador+1} numero: \"))\n",
        " if numero > maior numero\n",
        " maior_numero = numero\n",
        " print(f\"o maior numero digitado é {maior numero}\")"
      ]
    },
    {
      "cell_type": "code",
      "source": [
        "for contador in range(1000,2001):\n",
        "  if contador % 11 == 2:\n",
        "    print(contador)"
      ],
      "metadata": {
        "id": "nwWpGj9GAwRB"
      },
      "execution_count": null,
      "outputs": []
    },
    {
      "cell_type": "code",
      "source": [
        "soma = 0\n",
        "for i in range(5):\n",
        "  numero = float(input(f\"digite o {i+1}º numero \"))\n",
        "  soma += numero # soma + numero\n",
        "  media = soma/5\n",
        "  print(f\"a soma dos numeros é: {soma} \")\n",
        "  print(f\"a soma dos numeros é: {media} \")\n"
      ],
      "metadata": {
        "id": "FxOjF8nmBX93"
      },
      "execution_count": null,
      "outputs": []
    },
    {
      "cell_type": "code",
      "source": [
        "numero = int(input(\"Digite um numero\"))\n",
        "for contador in range(15):\n",
        " res = numero * contador\n",
        " print(res)\n",
        " print(f\"{numero} X {contador} = {res}\")\n",
        "\n"
      ],
      "metadata": {
        "id": "xR7D0pqoEcMq"
      },
      "execution_count": null,
      "outputs": []
    },
    {
      "cell_type": "code",
      "source": [
        "for i in range(1,10):\n",
        "  for j in range(1,11):\n",
        "    print(f\"{i} x {i*j} \")"
      ],
      "metadata": {
        "id": "bCdhfhj3fFBM"
      },
      "execution_count": null,
      "outputs": []
    },
    {
      "cell_type": "code",
      "source": [
        "for i in range(1,21):\n",
        " print(i)\n",
        "print(list(range(1,21)))\n",
        "\n"
      ],
      "metadata": {
        "id": "TVYnq2IpSXU0"
      },
      "execution_count": null,
      "outputs": []
    },
    {
      "cell_type": "code",
      "source": [
        "for i in range(1,51):\n",
        " if i % 2 != 0:\n",
        "  print(i)"
      ],
      "metadata": {
        "id": "DcTzF18PgnnL"
      },
      "execution_count": null,
      "outputs": []
    },
    {
      "cell_type": "code",
      "source": [
        "n1 = int(input(\"digite um numero: \"))\n",
        "n2 = int(input(\"digite outro numero: \"))\n",
        "\n",
        "for u in range(n1+1, n2):\n",
        "  print(u)"
      ],
      "metadata": {
        "id": "51u72uvLt83T"
      },
      "execution_count": null,
      "outputs": []
    },
    {
      "cell_type": "code",
      "source": [
        "lojaB = 54000\n",
        "lojaA = 0\n",
        "for on range(5)\n",
        "gasto = float(onput(f\"digite o valor gasto do cliente {cliente + 1}\"))\n",
        "lojaA += gasto\n",
        "if lojaA > lojaB\n",
        "print(f\"a loja A superou o faturamento da loja B com o valor arrecadado maior de r${lojaA - lojaB}\")\n",
        "elif lojaB > lojaA:\n",
        "  else:\n",
        "  print(\"a loja A superou o faturamento da loja B com o valor arrecadado maior de r${lojaB - lojaA}\"))\n",
        "  print(\"as duas lojas arrecadam o mesmo valor de R$54000\")"
      ],
      "metadata": {
        "id": "0c2cmsXfwyDa"
      },
      "execution_count": null,
      "outputs": []
    },
    {
      "cell_type": "code",
      "source": [
        "numeros_pares = 0\n",
        "numeros_impares = 0\n",
        " for in range(1,11):\n",
        "numero = int(input(f\"digite o{1t} numero inteiro\"))\n",
        "if numero % 2 == 0\n",
        "numeros pares += 1\n",
        "else numeros impares += 1\n",
        "print(f(\"a quantidade \"))"
      ],
      "metadata": {
        "id": "auGdURyzzHot"
      },
      "execution_count": null,
      "outputs": []
    },
    {
      "cell_type": "code",
      "source": [
        "salario = float(input(\"digite o salario do funcionario: \"))\n",
        "percentual = 0.015\n",
        "for i in range(1996,2025):\n",
        "  aumento = salario * percentual\n",
        "  salario += aumento\n",
        "  percentual += 2\n",
        "  print(f\"salario em {i} = {salario: 2f} \")\n"
      ],
      "metadata": {
        "id": "PuX7EVNY0dGe"
      },
      "execution_count": null,
      "outputs": []
    },
    {
      "cell_type": "code",
      "source": [],
      "metadata": {
        "id": "a6_IR0HM4Pu-"
      },
      "execution_count": null,
      "outputs": []
    },
    {
      "cell_type": "code",
      "source": [
        "valor = float(input(\"digite o valor da compra:\"))\n",
        "contagem = 1\n",
        "if valor >= 600 and contagem:\n",
        "  reduzido = valor - 500\n",
        "  if reduzido >= 100 or contagem <= 24:\n",
        "   for x in range(999):\n",
        "    contagem += 1\n",
        "    reduzido -= 100\n",
        "    if reduzido < 100 or contagem == 24:\n",
        "     break\n",
        "porcentagem = contagem/100\n",
        "desconto = valor * porcentagem\n",
        "final = valor - desconto\n",
        "print((f\"o produto de R$ {valor:.2f} ficara a partir de R${final} com {contagem:.0f}% de desconto\"))\n",
        "\n"
      ],
      "metadata": {
        "id": "wpVvnLld594p"
      },
      "execution_count": null,
      "outputs": []
    },
    {
      "cell_type": "code",
      "source": [
        "ate15 = 0\n",
        "de16a30 = 0\n",
        "de31a45 = 0\n",
        "de46a60 = 0\n",
        "de46a60=0\n",
        "\n",
        "for pessoa in range(30):\n",
        "  idade = int(input(f\"digite a idade da pessoa {pessoa+1}\"))\n",
        "   if idade <= 15\n",
        "  ate15+= 1\n",
        "  elif idade 16 <= idade <=30\n",
        "  de16a30 += 1\n",
        "  elif idade 31 <= idade <= 45\n",
        "  de31a45 += 1\n",
        "  elif 46 <= idade <= 60\n",
        "  de46a60 += 1\n",
        "  else\n",
        "  mais60 += 1\n",
        "  print(f\"quanridade de pessoas por faixa etaria\\nAté 15 anos: {ate15} pessoas\\nDe 31 a 45 anos : {de31a45} pessoas\\nMais de \")\n"
      ],
      "metadata": {
        "id": "vkt68U39ygQ6"
      },
      "execution_count": null,
      "outputs": []
    },
    {
      "cell_type": "code",
      "source": [
        "base = int(input(\"digite o valor da base: \"))\n",
        "expoente = int(input(\"digite o valor do expoente \"))\n",
        "result = 1\n",
        "for 1 in range(expoente):\n",
        "   if base == 1\n",
        "  result = base\n",
        "   else:\n",
        "    result *= base\n",
        "    print(f\"resultado{result}\")"
      ],
      "metadata": {
        "id": "h5nZyzbDJIjm"
      },
      "execution_count": null,
      "outputs": []
    }
  ]
}